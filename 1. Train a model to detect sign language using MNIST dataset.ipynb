{
  "nbformat": 4,
  "nbformat_minor": 0,
  "metadata": {
    "kernelspec": {
      "display_name": "Python 3",
      "language": "python",
      "name": "python3"
    },
    "language_info": {
      "codemirror_mode": {
        "name": "ipython",
        "version": 3
      },
      "file_extension": ".py",
      "mimetype": "text/x-python",
      "name": "python",
      "nbconvert_exporter": "python",
      "pygments_lexer": "ipython3",
      "version": "3.7.3"
    },
    "colab": {
      "name": "1. Train a model to detect sign language using MNIST dataset.ipynb",
      "provenance": [],
      "collapsed_sections": [],
      "include_colab_link": true
    },
    "accelerator": "GPU"
  },
  "cells": [
    {
      "cell_type": "markdown",
      "metadata": {
        "id": "view-in-github",
        "colab_type": "text"
      },
      "source": [
        "<a href=\"https://colab.research.google.com/github/guru3/hand_sign_detector/blob/master/1.%20Train%20a%20model%20to%20detect%20sign%20language%20using%20MNIST%20dataset.ipynb\" target=\"_parent\"><img src=\"https://colab.research.google.com/assets/colab-badge.svg\" alt=\"Open In Colab\"/></a>"
      ]
    },
    {
      "cell_type": "markdown",
      "metadata": {
        "id": "N4xFVvbzQudc",
        "colab_type": "text"
      },
      "source": [
        "#### Let's give it another shot!"
      ]
    },
    {
      "cell_type": "code",
      "metadata": {
        "id": "4OwcNc45Qude",
        "colab_type": "code",
        "outputId": "aa42ff82-456e-4128-fe5b-113ca77180d1",
        "colab": {
          "resources": {
            "http://localhost:8080/nbextensions/google.colab/files.js": {
              "data": "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",
              "ok": true,
              "headers": [
                [
                  "content-type",
                  "application/javascript"
                ]
              ],
              "status": 200,
              "status_text": "OK"
            }
          },
          "base_uri": "https://localhost:8080/",
          "height": 89
        }
      },
      "source": [
        "! pip install -q kaggle\n",
        "from google.colab import files\n",
        "files.upload()"
      ],
      "execution_count": 1,
      "outputs": [
        {
          "output_type": "display_data",
          "data": {
            "text/html": [
              "\n",
              "     <input type=\"file\" id=\"files-e9cb854a-03b0-49c9-b28a-70e81f6c4d06\" name=\"files[]\" multiple disabled />\n",
              "     <output id=\"result-e9cb854a-03b0-49c9-b28a-70e81f6c4d06\">\n",
              "      Upload widget is only available when the cell has been executed in the\n",
              "      current browser session. Please rerun this cell to enable.\n",
              "      </output>\n",
              "      <script src=\"/nbextensions/google.colab/files.js\"></script> "
            ],
            "text/plain": [
              "<IPython.core.display.HTML object>"
            ]
          },
          "metadata": {
            "tags": []
          }
        },
        {
          "output_type": "stream",
          "text": [
            "Saving kaggle.json to kaggle (1).json\n"
          ],
          "name": "stdout"
        },
        {
          "output_type": "execute_result",
          "data": {
            "text/plain": [
              "{'kaggle.json': b'{\"username\":\"guru333\",\"key\":\"695a60acdd9541c267fbd36712d5ffcd\"}'}"
            ]
          },
          "metadata": {
            "tags": []
          },
          "execution_count": 1
        }
      ]
    },
    {
      "cell_type": "code",
      "metadata": {
        "id": "w6zYliydQudp",
        "colab_type": "code",
        "outputId": "f952417e-bc74-4adc-c6a7-ab7037a4bbea",
        "colab": {
          "base_uri": "https://localhost:8080/",
          "height": 208
        }
      },
      "source": [
        "! mkdir ~/.kaggle\n",
        "! cp kaggle.json ~/.kaggle/\n",
        "! chmod 600 ~/.kaggle/kaggle.json\n",
        "! kaggle datasets download datamunge/sign-language-mnist\n",
        "!unzip sign-language-mnist.zip"
      ],
      "execution_count": 2,
      "outputs": [
        {
          "output_type": "stream",
          "text": [
            "mkdir: cannot create directory ‘/root/.kaggle’: File exists\n",
            "sign-language-mnist.zip: Skipping, found more recently modified local copy (use --force to force download)\n",
            "Archive:  sign-language-mnist.zip\n",
            "replace amer_sign2.png? [y]es, [n]o, [A]ll, [N]one, [r]ename: A\n",
            "  inflating: amer_sign2.png          \n",
            "  inflating: amer_sign3.png          \n",
            "  inflating: american_sign_language.PNG  \n",
            "  inflating: sign_mnist_test.csv     \n",
            "  inflating: sign_mnist_test/sign_mnist_test.csv  \n",
            "  inflating: sign_mnist_train.csv    \n",
            "  inflating: sign_mnist_train/sign_mnist_train.csv  \n"
          ],
          "name": "stdout"
        }
      ]
    },
    {
      "cell_type": "code",
      "metadata": {
        "id": "xaqnLd3S99Bi",
        "colab_type": "code",
        "colab": {
          "base_uri": "https://localhost:8080/",
          "height": 124
        },
        "outputId": "6fa5754d-7b3b-4ebb-9960-4493b839bbf9"
      },
      "source": [
        "from google.colab import drive\n",
        "drive.mount('/content/drive')"
      ],
      "execution_count": 3,
      "outputs": [
        {
          "output_type": "stream",
          "text": [
            "Go to this URL in a browser: https://accounts.google.com/o/oauth2/auth?client_id=947318989803-6bn6qk8qdgf4n4g3pfee6491hc0brc4i.apps.googleusercontent.com&redirect_uri=urn%3aietf%3awg%3aoauth%3a2.0%3aoob&response_type=code&scope=email%20https%3a%2f%2fwww.googleapis.com%2fauth%2fdocs.test%20https%3a%2f%2fwww.googleapis.com%2fauth%2fdrive%20https%3a%2f%2fwww.googleapis.com%2fauth%2fdrive.photos.readonly%20https%3a%2f%2fwww.googleapis.com%2fauth%2fpeopleapi.readonly\n",
            "\n",
            "Enter your authorization code:\n",
            "··········\n",
            "Mounted at /content/drive\n"
          ],
          "name": "stdout"
        }
      ]
    },
    {
      "cell_type": "code",
      "metadata": {
        "id": "LsnMFh76Qudz",
        "colab_type": "code",
        "outputId": "c4e90678-144b-47cb-aa03-5727d0fd153e",
        "colab": {
          "base_uri": "https://localhost:8080/",
          "height": 34
        }
      },
      "source": [
        "import csv\n",
        "import random\n",
        "import pickle\n",
        "import string\n",
        "import os\n",
        "import numpy as np\n",
        "import pandas as pd\n",
        "import matplotlib.pyplot as plt\n",
        "import matplotlib.image as mpimg\n",
        "from keras.utils import to_categorical\n",
        "from keras import backend as kbackend\n",
        "from keras.callbacks import Callback\n",
        "from keras.models import Sequential,Model\n",
        "from keras.layers import Conv2D,Dense,Flatten,Input,Dropout\n",
        "import create_model_for_mnist as modelGen\n",
        "from tensorflow.keras.preprocessing.image import ImageDataGenerator"
      ],
      "execution_count": 1,
      "outputs": [
        {
          "output_type": "stream",
          "text": [
            "Using TensorFlow backend.\n"
          ],
          "name": "stderr"
        }
      ]
    },
    {
      "cell_type": "code",
      "metadata": {
        "id": "54dhwPNgoPKs",
        "colab_type": "code",
        "colab": {}
      },
      "source": [
        "def label_to_character( label ):\n",
        "  return chr(ord('A') + int(label));\n",
        "\n",
        "def one_hot_vector_to_character( vector ):\n",
        "  charac = np.argmax(vector);\n",
        "  return label_to_character( charac );"
      ],
      "execution_count": 0,
      "outputs": []
    },
    {
      "cell_type": "code",
      "metadata": {
        "id": "4Cgmy8Cf6ngU",
        "colab_type": "code",
        "outputId": "9c1dc142-eb9b-4524-9b3f-a59b26ec1858",
        "colab": {
          "base_uri": "https://localhost:8080/",
          "height": 34
        }
      },
      "source": [
        "fil = csv.reader( open('./sign_mnist_train.csv','r') );\n",
        "next(fil);\n",
        "map = {}\n",
        "for line in fil:\n",
        "  map[line[0]] = 1;\n",
        "unique = [ label_to_character(x) for x in map.keys() ]\n",
        "unique.sort();\n",
        "print( unique  );"
      ],
      "execution_count": 3,
      "outputs": [
        {
          "output_type": "stream",
          "text": [
            "['A', 'B', 'C', 'D', 'E', 'F', 'G', 'H', 'I', 'K', 'L', 'M', 'N', 'O', 'P', 'Q', 'R', 'S', 'T', 'U', 'V', 'W', 'X', 'Y']\n"
          ],
          "name": "stdout"
        }
      ]
    },
    {
      "cell_type": "code",
      "metadata": {
        "id": "SO1qcc9Is8zI",
        "colab_type": "code",
        "colab": {}
      },
      "source": [
        "total_signs = 25;"
      ],
      "execution_count": 0,
      "outputs": []
    },
    {
      "cell_type": "code",
      "metadata": {
        "id": "xS_Uki9k2PgT",
        "colab_type": "code",
        "colab": {}
      },
      "source": [
        "def read_file( file, split=False ):\n",
        "  csv_reader = csv.reader( open( file, 'r' ) );\n",
        "  next(csv_reader);\n",
        "  data = [];\n",
        "  Y = [];\n",
        "  for line in csv_reader:\n",
        "    line = [ int(x) for x in line ];\n",
        "    Y.append( to_categorical(line[0], total_signs ) );\n",
        "    data.append( np.array(line[1:]).reshape(28,28,1) );\n",
        "  \n",
        "  if( split ):\n",
        "    totalTrainingEx = int(len(data)*0.9);\n",
        "    return np.array(data[0:totalTrainingEx])/255., np.array(Y[0:totalTrainingEx]), \\\n",
        "      np.array(data[totalTrainingEx:])/255, np.array(Y[totalTrainingEx:])\n",
        "  else:\n",
        "    return np.array(data)/255, np.array(Y)"
      ],
      "execution_count": 0,
      "outputs": []
    },
    {
      "cell_type": "code",
      "metadata": {
        "id": "RBFpXrienYyb",
        "colab_type": "code",
        "colab": {}
      },
      "source": [
        "Xtrain, Ytrain, XValid, YValid = read_file('./sign_mnist_train.csv', split=True);\n",
        "Xtest, Ytest = read_file('./sign_mnist_test.csv');"
      ],
      "execution_count": 0,
      "outputs": []
    },
    {
      "cell_type": "code",
      "metadata": {
        "id": "mHWHsTxFncrk",
        "colab_type": "code",
        "colab": {
          "base_uri": "https://localhost:8080/",
          "height": 69
        },
        "outputId": "81b58eab-f416-415d-e369-99c5acd9607c"
      },
      "source": [
        "print( 'Training data shape:\\t', Xtrain.shape, Ytrain.shape );\n",
        "print( 'Validation data shape:\\t', XValid.shape, YValid.shape );\n",
        "print( 'Testing data shape:\\t', Xtest.shape, Ytest.shape );"
      ],
      "execution_count": 7,
      "outputs": [
        {
          "output_type": "stream",
          "text": [
            "Training data shape:\t (24709, 28, 28, 1) (24709, 25)\n",
            "Validation data shape:\t (2746, 28, 28, 1) (2746, 25)\n",
            "Testing data shape:\t (7172, 28, 28, 1) (7172, 25)\n"
          ],
          "name": "stdout"
        }
      ]
    },
    {
      "cell_type": "code",
      "metadata": {
        "id": "cHGellIX3Nei",
        "colab_type": "code",
        "colab": {
          "base_uri": "https://localhost:8080/",
          "height": 281
        },
        "outputId": "ae659148-8391-4681-ee8c-83680d6fac9a"
      },
      "source": [
        "_ = plt.imshow( Xtrain[0].reshape(28,28), cmap='gray' )\n",
        "_ = plt.title( one_hot_vector_to_character(Ytrain[0]) )"
      ],
      "execution_count": 8,
      "outputs": [
        {
          "output_type": "display_data",
          "data": {
            "image/png": "[encoded data removed]",
            "text/plain": [
              "<Figure size 432x288 with 1 Axes>"
            ]
          },
          "metadata": {
            "tags": [],
            "needs_background": "light"
          }
        }
      ]
    },
    {
      "cell_type": "code",
      "metadata": {
        "id": "-ZLj7ChP9eGB",
        "colab_type": "code",
        "colab": {
          "base_uri": "https://localhost:8080/",
          "height": 469
        },
        "outputId": "a8b01256-974b-4217-fcf5-f12f97d7caa9"
      },
      "source": [
        "model = modelGen.get_model()"
      ],
      "execution_count": 9,
      "outputs": [
        {
          "output_type": "stream",
          "text": [
            "Model: \"sequential_1\"\n",
            "_________________________________________________________________\n",
            "Layer (type)                 Output Shape              Param #   \n",
            "=================================================================\n",
            "conv2d_1 (Conv2D)            (None, 27, 27, 128)       640       \n",
            "_________________________________________________________________\n",
            "conv2d_2 (Conv2D)            (None, 26, 26, 64)        32832     \n",
            "_________________________________________________________________\n",
            "dropout_1 (Dropout)          (None, 26, 26, 64)        0         \n",
            "_________________________________________________________________\n",
            "conv2d_3 (Conv2D)            (None, 25, 25, 64)        16448     \n",
            "_________________________________________________________________\n",
            "flatten_1 (Flatten)          (None, 40000)             0         \n",
            "_________________________________________________________________\n",
            "dense_1 (Dense)              (None, 512)               20480512  \n",
            "_________________________________________________________________\n",
            "dropout_2 (Dropout)          (None, 512)               0         \n",
            "_________________________________________________________________\n",
            "dense_2 (Dense)              (None, 128)               65664     \n",
            "_________________________________________________________________\n",
            "dense_3 (Dense)              (None, 25)                3225      \n",
            "=================================================================\n",
            "Total params: 20,599,321\n",
            "Trainable params: 20,599,321\n",
            "Non-trainable params: 0\n",
            "_________________________________________________________________\n"
          ],
          "name": "stdout"
        }
      ]
    },
    {
      "cell_type": "code",
      "metadata": {
        "id": "4Py9vX9a2nGj",
        "colab_type": "code",
        "colab": {}
      },
      "source": [
        "datagen = ImageDataGenerator( zoom_range = 0.1, width_shift_range=0.1, height_shift_range=0.1) \n",
        "datagen.fit(Xtrain)"
      ],
      "execution_count": 0,
      "outputs": []
    },
    {
      "cell_type": "code",
      "metadata": {
        "id": "eVU33Tprqwox",
        "colab_type": "code",
        "colab": {
          "base_uri": "https://localhost:8080/",
          "height": 1000
        },
        "outputId": "e0f40c7d-0e14-4042-edd7-3922cc76755f"
      },
      "source": [
        "history = model.fit( datagen.flow(Xtrain,Ytrain, batch_size = 64), epochs=50, validation_data=(XValid,YValid) );"
      ],
      "execution_count": 11,
      "outputs": [
        {
          "output_type": "stream",
          "text": [
            "Epoch 1/50\n",
            "387/387 [==============================] - 19s 50ms/step - loss: 2.4276 - accuracy: 0.2618 - val_loss: 0.9714 - val_accuracy: 0.7094\n",
            "Epoch 2/50\n",
            "387/387 [==============================] - 18s 45ms/step - loss: 1.1806 - accuracy: 0.6061 - val_loss: 0.2796 - val_accuracy: 0.9162\n",
            "Epoch 3/50\n",
            "387/387 [==============================] - 17s 45ms/step - loss: 0.6564 - accuracy: 0.7808 - val_loss: 0.0976 - val_accuracy: 0.9785\n",
            "Epoch 4/50\n",
            "387/387 [==============================] - 17s 45ms/step - loss: 0.4461 - accuracy: 0.8496 - val_loss: 0.0613 - val_accuracy: 0.9865\n",
            "Epoch 5/50\n",
            "387/387 [==============================] - 17s 45ms/step - loss: 0.3152 - accuracy: 0.8965 - val_loss: 0.0313 - val_accuracy: 0.9924\n",
            "Epoch 6/50\n",
            "387/387 [==============================] - 17s 45ms/step - loss: 0.2537 - accuracy: 0.9128 - val_loss: 0.0133 - val_accuracy: 0.9975\n",
            "Epoch 7/50\n",
            "387/387 [==============================] - 17s 45ms/step - loss: 0.2014 - accuracy: 0.9339 - val_loss: 0.0080 - val_accuracy: 0.9989\n",
            "Epoch 8/50\n",
            "387/387 [==============================] - 17s 45ms/step - loss: 0.1625 - accuracy: 0.9456 - val_loss: 0.0036 - val_accuracy: 0.9996\n",
            "Epoch 9/50\n",
            "387/387 [==============================] - 17s 45ms/step - loss: 0.1385 - accuracy: 0.9542 - val_loss: 0.0019 - val_accuracy: 1.0000\n",
            "Epoch 10/50\n",
            "387/387 [==============================] - 17s 45ms/step - loss: 0.1190 - accuracy: 0.9588 - val_loss: 0.0043 - val_accuracy: 0.9982\n",
            "Epoch 11/50\n",
            "387/387 [==============================] - 17s 45ms/step - loss: 0.1107 - accuracy: 0.9630 - val_loss: 0.0122 - val_accuracy: 0.9945\n",
            "Epoch 12/50\n",
            "387/387 [==============================] - 17s 45ms/step - loss: 0.0962 - accuracy: 0.9682 - val_loss: 0.0011 - val_accuracy: 1.0000\n",
            "Epoch 13/50\n",
            "387/387 [==============================] - 17s 45ms/step - loss: 0.0873 - accuracy: 0.9709 - val_loss: 3.7899e-04 - val_accuracy: 1.0000\n",
            "Epoch 14/50\n",
            "387/387 [==============================] - 17s 45ms/step - loss: 0.0781 - accuracy: 0.9736 - val_loss: 2.2206e-04 - val_accuracy: 1.0000\n",
            "Epoch 15/50\n",
            "387/387 [==============================] - 17s 45ms/step - loss: 0.0687 - accuracy: 0.9768 - val_loss: 3.3213e-04 - val_accuracy: 1.0000\n",
            "Epoch 16/50\n",
            "387/387 [==============================] - 17s 45ms/step - loss: 0.0651 - accuracy: 0.9784 - val_loss: 1.4021e-04 - val_accuracy: 1.0000\n",
            "Epoch 17/50\n",
            "387/387 [==============================] - 17s 45ms/step - loss: 0.0616 - accuracy: 0.9801 - val_loss: 7.6403e-04 - val_accuracy: 1.0000\n",
            "Epoch 18/50\n",
            "387/387 [==============================] - 17s 44ms/step - loss: 0.0596 - accuracy: 0.9806 - val_loss: 7.8140e-05 - val_accuracy: 1.0000\n",
            "Epoch 19/50\n",
            "387/387 [==============================] - 17s 45ms/step - loss: 0.0527 - accuracy: 0.9819 - val_loss: 3.2954e-04 - val_accuracy: 1.0000\n",
            "Epoch 20/50\n",
            "387/387 [==============================] - 17s 44ms/step - loss: 0.0502 - accuracy: 0.9834 - val_loss: 5.4320e-05 - val_accuracy: 1.0000\n",
            "Epoch 21/50\n",
            "387/387 [==============================] - 17s 45ms/step - loss: 0.0424 - accuracy: 0.9858 - val_loss: 3.7482e-05 - val_accuracy: 1.0000\n",
            "Epoch 22/50\n",
            "387/387 [==============================] - 17s 44ms/step - loss: 0.0452 - accuracy: 0.9853 - val_loss: 2.4017e-04 - val_accuracy: 1.0000\n",
            "Epoch 23/50\n",
            "387/387 [==============================] - 17s 45ms/step - loss: 0.0436 - accuracy: 0.9850 - val_loss: 6.7434e-05 - val_accuracy: 1.0000\n",
            "Epoch 24/50\n",
            "387/387 [==============================] - 17s 45ms/step - loss: 0.0400 - accuracy: 0.9872 - val_loss: 4.0292e-05 - val_accuracy: 1.0000\n",
            "Epoch 25/50\n",
            "387/387 [==============================] - 17s 45ms/step - loss: 0.0409 - accuracy: 0.9867 - val_loss: 4.1774e-05 - val_accuracy: 1.0000\n",
            "Epoch 26/50\n",
            "387/387 [==============================] - 17s 45ms/step - loss: 0.0413 - accuracy: 0.9865 - val_loss: 2.4030e-05 - val_accuracy: 1.0000\n",
            "Epoch 27/50\n",
            "387/387 [==============================] - 17s 45ms/step - loss: 0.0357 - accuracy: 0.9888 - val_loss: 2.2868e-05 - val_accuracy: 1.0000\n",
            "Epoch 28/50\n",
            "387/387 [==============================] - 17s 45ms/step - loss: 0.0374 - accuracy: 0.9875 - val_loss: 5.0846e-05 - val_accuracy: 1.0000\n",
            "Epoch 29/50\n",
            "387/387 [==============================] - 17s 44ms/step - loss: 0.0344 - accuracy: 0.9887 - val_loss: 9.4387e-06 - val_accuracy: 1.0000\n",
            "Epoch 30/50\n",
            "387/387 [==============================] - 17s 44ms/step - loss: 0.0361 - accuracy: 0.9884 - val_loss: 1.5980e-05 - val_accuracy: 1.0000\n",
            "Epoch 31/50\n",
            "387/387 [==============================] - 17s 45ms/step - loss: 0.0300 - accuracy: 0.9898 - val_loss: 1.2192e-05 - val_accuracy: 1.0000\n",
            "Epoch 32/50\n",
            "387/387 [==============================] - 17s 45ms/step - loss: 0.0297 - accuracy: 0.9906 - val_loss: 1.2756e-05 - val_accuracy: 1.0000\n",
            "Epoch 33/50\n",
            "387/387 [==============================] - 17s 44ms/step - loss: 0.0299 - accuracy: 0.9901 - val_loss: 6.9989e-05 - val_accuracy: 1.0000\n",
            "Epoch 34/50\n",
            "387/387 [==============================] - 17s 45ms/step - loss: 0.0297 - accuracy: 0.9899 - val_loss: 1.0855e-05 - val_accuracy: 1.0000\n",
            "Epoch 35/50\n",
            "387/387 [==============================] - 17s 44ms/step - loss: 0.0242 - accuracy: 0.9924 - val_loss: 3.0296e-06 - val_accuracy: 1.0000\n",
            "Epoch 36/50\n",
            "387/387 [==============================] - 17s 44ms/step - loss: 0.0287 - accuracy: 0.9913 - val_loss: 1.2006e-06 - val_accuracy: 1.0000\n",
            "Epoch 37/50\n",
            "387/387 [==============================] - 17s 44ms/step - loss: 0.0275 - accuracy: 0.9911 - val_loss: 3.4227e-05 - val_accuracy: 1.0000\n",
            "Epoch 38/50\n",
            "387/387 [==============================] - 17s 44ms/step - loss: 0.0246 - accuracy: 0.9919 - val_loss: 7.6931e-06 - val_accuracy: 1.0000\n",
            "Epoch 39/50\n",
            "387/387 [==============================] - 17s 44ms/step - loss: 0.0271 - accuracy: 0.9919 - val_loss: 1.1885e-06 - val_accuracy: 1.0000\n",
            "Epoch 40/50\n",
            "387/387 [==============================] - 17s 44ms/step - loss: 0.0249 - accuracy: 0.9919 - val_loss: 3.0496e-05 - val_accuracy: 1.0000\n",
            "Epoch 41/50\n",
            "387/387 [==============================] - 17s 44ms/step - loss: 0.0242 - accuracy: 0.9925 - val_loss: 6.1473e-06 - val_accuracy: 1.0000\n",
            "Epoch 42/50\n",
            "387/387 [==============================] - 17s 44ms/step - loss: 0.0235 - accuracy: 0.9927 - val_loss: 2.9841e-06 - val_accuracy: 1.0000\n",
            "Epoch 43/50\n",
            "387/387 [==============================] - 17s 44ms/step - loss: 0.0223 - accuracy: 0.9925 - val_loss: 9.4741e-06 - val_accuracy: 1.0000\n",
            "Epoch 44/50\n",
            "387/387 [==============================] - 17s 44ms/step - loss: 0.0234 - accuracy: 0.9926 - val_loss: 4.8757e-05 - val_accuracy: 1.0000\n",
            "Epoch 45/50\n",
            "387/387 [==============================] - 17s 44ms/step - loss: 0.0192 - accuracy: 0.9944 - val_loss: 1.8742e-05 - val_accuracy: 1.0000\n",
            "Epoch 46/50\n",
            "387/387 [==============================] - 17s 44ms/step - loss: 0.0178 - accuracy: 0.9943 - val_loss: 5.4115e-07 - val_accuracy: 1.0000\n",
            "Epoch 47/50\n",
            "387/387 [==============================] - 17s 44ms/step - loss: 0.0209 - accuracy: 0.9934 - val_loss: 3.0674e-07 - val_accuracy: 1.0000\n",
            "Epoch 48/50\n",
            "387/387 [==============================] - 17s 44ms/step - loss: 0.0245 - accuracy: 0.9934 - val_loss: 1.5307e-07 - val_accuracy: 1.0000\n",
            "Epoch 49/50\n",
            "387/387 [==============================] - 17s 44ms/step - loss: 0.0196 - accuracy: 0.9938 - val_loss: 4.6809e-06 - val_accuracy: 1.0000\n",
            "Epoch 50/50\n",
            "387/387 [==============================] - 17s 44ms/step - loss: 0.0155 - accuracy: 0.9945 - val_loss: 3.1307e-05 - val_accuracy: 1.0000\n"
          ],
          "name": "stdout"
        }
      ]
    },
    {
      "cell_type": "code",
      "metadata": {
        "id": "3eFSk5RcvD4I",
        "colab_type": "code",
        "colab": {
          "base_uri": "https://localhost:8080/",
          "height": 34
        },
        "outputId": "6512431f-5c39-448d-de5c-f80800412739"
      },
      "source": [
        "predictedChar = [label_to_character( x ) for x in model.predict_classes(Xtrain)]\n",
        "actualChar = [one_hot_vector_to_character( x ) for x in Ytrain]\n",
        "sumI = 0;\n",
        "for i in range(len(predictedChar)):\n",
        "  sumI = sumI + (actualChar[i] == predictedChar[i] )\n",
        "print('Test accuracy is', sumI/len(predictedChar));"
      ],
      "execution_count": 12,
      "outputs": [
        {
          "output_type": "stream",
          "text": [
            "Test accuracy is 1.0\n"
          ],
          "name": "stdout"
        }
      ]
    },
    {
      "cell_type": "code",
      "metadata": {
        "id": "r_PgtYVA6a9v",
        "colab_type": "code",
        "colab": {}
      },
      "source": [
        "model.save_weights('./drive/My Drive/Colab Notebooks/mnist-handsign-weights.hdf5');"
      ],
      "execution_count": 0,
      "outputs": []
    },
    {
      "cell_type": "code",
      "metadata": {
        "id": "FShj1dn8CAbb",
        "colab_type": "code",
        "colab": {}
      },
      "source": [
        ""
      ],
      "execution_count": 0,
      "outputs": []
    }
  ]
}