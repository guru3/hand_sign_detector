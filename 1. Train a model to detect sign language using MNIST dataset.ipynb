{
  "nbformat": 4,
  "nbformat_minor": 0,
  "metadata": {
    "kernelspec": {
      "display_name": "Python 3",
      "language": "python",
      "name": "python3"
    },
    "language_info": {
      "codemirror_mode": {
        "name": "ipython",
        "version": 3
      },
      "file_extension": ".py",
      "mimetype": "text/x-python",
      "name": "python",
      "nbconvert_exporter": "python",
      "pygments_lexer": "ipython3",
      "version": "3.7.3"
    },
    "colab": {
      "name": "1. Train a model to detect sign language using MNIST dataset.ipynb",
      "provenance": [],
      "collapsed_sections": [],
      "include_colab_link": true
    },
    "accelerator": "GPU"
  },
  "cells": [
    {
      "cell_type": "markdown",
      "metadata": {
        "id": "view-in-github",
        "colab_type": "text"
      },
      "source": [
        "<a href=\"https://colab.research.google.com/github/guru3/hand_sign_detector/blob/master/1.%20Train%20a%20model%20to%20detect%20sign%20language%20using%20MNIST%20dataset.ipynb\" target=\"_parent\"><img src=\"https://colab.research.google.com/assets/colab-badge.svg\" alt=\"Open In Colab\"/></a>"
      ]
    },
    {
      "cell_type": "markdown",
      "metadata": {
        "id": "N4xFVvbzQudc",
        "colab_type": "text"
      },
      "source": [
        "#### Let's give it another shot!"
      ]
    },
    {
      "cell_type": "code",
      "metadata": {
        "id": "j_upfFozHM1H",
        "colab_type": "code",
        "colab": {}
      },
      "source": [
        "! pip install -q kaggle\n",
        "from google.colab import files\n",
        "files.upload()"
      ],
      "execution_count": 0,
      "outputs": []
    },
    {
      "cell_type": "code",
      "metadata": {
        "id": "KCjNfYEyHO3b",
        "colab_type": "code",
        "colab": {}
      },
      "source": [
        "! mkdir ~/.kaggle\n",
        "! cp kaggle.json ~/.kaggle/\n",
        "! chmod 600 ~/.kaggle/kaggle.json\n",
        "! kaggle datasets download datamunge/sign-language-mnist\n",
        "!unzip sign-language-mnist.zip"
      ],
      "execution_count": 0,
      "outputs": []
    },
    {
      "cell_type": "code",
      "metadata": {
        "id": "s1tCu0uqHRqJ",
        "colab_type": "code",
        "colab": {}
      },
      "source": [
        "from google.colab import drive\n",
        "drive.mount('/content/drive')"
      ],
      "execution_count": 0,
      "outputs": []
    },
    {
      "cell_type": "code",
      "metadata": {
        "id": "LsnMFh76Qudz",
        "colab_type": "code",
        "outputId": "c4e90678-144b-47cb-aa03-5727d0fd153e",
        "colab": {
          "base_uri": "https://localhost:8080/",
          "height": 34
        }
      },
      "source": [
        "import csv\n",
        "import random\n",
        "import pickle\n",
        "import string\n",
        "import os\n",
        "import numpy as np\n",
        "import pandas as pd\n",
        "import matplotlib.pyplot as plt\n",
        "import matplotlib.image as mpimg\n",
        "from keras.utils import to_categorical\n",
        "from keras import backend as kbackend\n",
        "from keras.callbacks import Callback\n",
        "from keras.models import Sequential,Model\n",
        "from keras.layers import Conv2D,Dense,Flatten,Input,Dropout\n",
        "import create_model_for_mnist as modelGen\n",
        "from tensorflow.keras.preprocessing.image import ImageDataGenerator"
      ],
      "execution_count": 1,
      "outputs": [
        {
          "output_type": "stream",
          "text": [
            "Using TensorFlow backend.\n"
          ],
          "name": "stderr"
        }
      ]
    },
    {
      "cell_type": "code",
      "metadata": {
        "id": "54dhwPNgoPKs",
        "colab_type": "code",
        "colab": {}
      },
      "source": [
        "def label_to_character( label ):\n",
        "  return chr(ord('A') + int(label));\n",
        "\n",
        "def one_hot_vector_to_character( vector ):\n",
        "  charac = np.argmax(vector);\n",
        "  return label_to_character( charac );"
      ],
      "execution_count": 0,
      "outputs": []
    },
    {
      "cell_type": "code",
      "metadata": {
        "id": "4Cgmy8Cf6ngU",
        "colab_type": "code",
        "outputId": "9c1dc142-eb9b-4524-9b3f-a59b26ec1858",
        "colab": {
          "base_uri": "https://localhost:8080/",
          "height": 34
        }
      },
      "source": [
        "fil = csv.reader( open('./sign_mnist_train.csv','r') );\n",
        "next(fil);\n",
        "map = {}\n",
        "for line in fil:\n",
        "  map[line[0]] = 1;\n",
        "unique = [ label_to_character(x) for x in map.keys() ]\n",
        "unique.sort();\n",
        "print( unique  );"
      ],
      "execution_count": 3,
      "outputs": [
        {
          "output_type": "stream",
          "text": [
            "['A', 'B', 'C', 'D', 'E', 'F', 'G', 'H', 'I', 'K', 'L', 'M', 'N', 'O', 'P', 'Q', 'R', 'S', 'T', 'U', 'V', 'W', 'X', 'Y']\n"
          ],
          "name": "stdout"
        }
      ]
    },
    {
      "cell_type": "code",
      "metadata": {
        "id": "SO1qcc9Is8zI",
        "colab_type": "code",
        "colab": {}
      },
      "source": [
        "total_signs = 25;"
      ],
      "execution_count": 0,
      "outputs": []
    },
    {
      "cell_type": "code",
      "metadata": {
        "id": "xS_Uki9k2PgT",
        "colab_type": "code",
        "colab": {}
      },
      "source": [
        "def read_file( file, split=False ):\n",
        "  csv_reader = csv.reader( open( file, 'r' ) );\n",
        "  next(csv_reader);\n",
        "  data = [];\n",
        "  Y = [];\n",
        "  for line in csv_reader:\n",
        "    line = [ int(x) for x in line ];\n",
        "    Y.append( to_categorical(line[0], total_signs ) );\n",
        "    data.append( np.array(line[1:]).reshape(28,28,1) );\n",
        "  \n",
        "  if( split ):\n",
        "    totalTrainingEx = int(len(data)*0.9);\n",
        "    return np.array(data[0:totalTrainingEx])/255., np.array(Y[0:totalTrainingEx]), \\\n",
        "      np.array(data[totalTrainingEx:])/255, np.array(Y[totalTrainingEx:])\n",
        "  else:\n",
        "    return np.array(data)/255, np.array(Y)"
      ],
      "execution_count": 0,
      "outputs": []
    },
    {
      "cell_type": "code",
      "metadata": {
        "id": "RBFpXrienYyb",
        "colab_type": "code",
        "colab": {}
      },
      "source": [
        "Xtrain, Ytrain, XValid, YValid = read_file('./sign_mnist_train.csv', split=True);\n",
        "Xtest, Ytest = read_file('./sign_mnist_test.csv');"
      ],
      "execution_count": 0,
      "outputs": []
    },
    {
      "cell_type": "code",
      "metadata": {
        "id": "mHWHsTxFncrk",
        "colab_type": "code",
        "colab": {
          "base_uri": "https://localhost:8080/",
          "height": 69
        },
        "outputId": "81b58eab-f416-415d-e369-99c5acd9607c"
      },
      "source": [
        "print( 'Training data shape:\\t', Xtrain.shape, Ytrain.shape );\n",
        "print( 'Validation data shape:\\t', XValid.shape, YValid.shape );\n",
        "print( 'Testing data shape:\\t', Xtest.shape, Ytest.shape );"
      ],
      "execution_count": 7,
      "outputs": [
        {
          "output_type": "stream",
          "text": [
            "Training data shape:\t (24709, 28, 28, 1) (24709, 25)\n",
            "Validation data shape:\t (2746, 28, 28, 1) (2746, 25)\n",
            "Testing data shape:\t (7172, 28, 28, 1) (7172, 25)\n"
          ],
          "name": "stdout"
        }
      ]
    },
    {
      "cell_type": "code",
      "metadata": {
        "id": "cHGellIX3Nei",
        "colab_type": "code",
        "colab": {
          "base_uri": "https://localhost:8080/",
          "height": 281
        },
        "outputId": "ae659148-8391-4681-ee8c-83680d6fac9a"
      },
      "source": [
        "_ = plt.imshow( Xtrain[0].reshape(28,28), cmap='gray' )\n",
        "_ = plt.title( one_hot_vector_to_character(Ytrain[0]) )"
      ],
      "execution_count": 8,
      "outputs": [
        {
          "output_type": "display_data",
          "data": {
            "image/png": "[encoded data removed]",
            "text/plain": [
              "<Figure size 432x288 with 1 Axes>"
            ]
          },
          "metadata": {
            "tags": [],
            "needs_background": "light"
          }
        }
      ]
    },
    {
      "cell_type": "code",
      "metadata": {
        "id": "-ZLj7ChP9eGB",
        "colab_type": "code",
        "colab": {
          "base_uri": "https://localhost:8080/",
          "height": 469
        },
        "outputId": "a8b01256-974b-4217-fcf5-f12f97d7caa9"
      },
      "source": [
        "model = modelGen.get_model()"
      ],
      "execution_count": 9,
      "outputs": [
        {
          "output_type": "stream",
          "text": [
            "Model: \"sequential_1\"\n",
            "_________________________________________________________________\n",
            "Layer (type)                 Output Shape              Param #   \n",
            "=================================================================\n",
            "conv2d_1 (Conv2D)            (None, 27, 27, 128)       640       \n",
            "_________________________________________________________________\n",
            "conv2d_2 (Conv2D)            (None, 26, 26, 64)        32832     \n",
            "_________________________________________________________________\n",
            "dropout_1 (Dropout)          (None, 26, 26, 64)        0         \n",
            "_________________________________________________________________\n",
            "conv2d_3 (Conv2D)            (None, 25, 25, 64)        16448     \n",
            "_________________________________________________________________\n",
            "flatten_1 (Flatten)          (None, 40000)             0         \n",
            "_________________________________________________________________\n",
            "dense_1 (Dense)              (None, 512)               20480512  \n",
            "_________________________________________________________________\n",
            "dropout_2 (Dropout)          (None, 512)               0         \n",
            "_________________________________________________________________\n",
            "dense_2 (Dense)              (None, 128)               65664     \n",
            "_________________________________________________________________\n",
            "dense_3 (Dense)              (None, 25)                3225      \n",
            "=================================================================\n",
            "Total params: 20,599,321\n",
            "Trainable params: 20,599,321\n",
            "Non-trainable params: 0\n",
            "_________________________________________________________________\n"
          ],
          "name": "stdout"
        }
      ]
    },
    {
      "cell_type": "code",
      "metadata": {
        "id": "4Py9vX9a2nGj",
        "colab_type": "code",
        "colab": {}
      },
      "source": [
        "datagen = ImageDataGenerator( zoom_range = 0.1, width_shift_range=0.1, height_shift_range=0.1) \n",
        "datagen.fit(Xtrain)"
      ],
      "execution_count": 0,
      "outputs": []
    },
    {
      "cell_type": "code",
      "metadata": {
        "id": "eVU33Tprqwox",
        "colab_type": "code",
        "colab": {
          "base_uri": "https://localhost:8080/",
          "height": 1000
        },
        "outputId": "e0f40c7d-0e14-4042-edd7-3922cc76755f"
      },
      "source": [
        "history = model.fit( datagen.flow(Xtrain,Ytrain, batch_size = 64), epochs=50, validation_data=(XValid,YValid) );"
      ],
      "execution_count": 11,
      "outputs": [
        {
          "output_type": "stream",
          "text": [
            "Epoch 1/50\n",
            "387/387 [==============================] - 19s 50ms/step - loss: 2.4276 - accuracy: 0.2618 - val_loss: 0.9714 - val_accuracy: 0.7094\n",
            "Epoch 2/50\n",
            "387/387 [==============================] - 18s 45ms/step - loss: 1.1806 - accuracy: 0.6061 - val_loss: 0.2796 - val_accuracy: 0.9162\n",
            "Epoch 3/50\n",
            "387/387 [==============================] - 17s 45ms/step - loss: 0.6564 - accuracy: 0.7808 - val_loss: 0.0976 - val_accuracy: 0.9785\n",
            "Epoch 4/50\n",
            "387/387 [==============================] - 17s 45ms/step - loss: 0.4461 - accuracy: 0.8496 - val_loss: 0.0613 - val_accuracy: 0.9865\n",
            "Epoch 5/50\n",
            "387/387 [==============================] - 17s 45ms/step - loss: 0.3152 - accuracy: 0.8965 - val_loss: 0.0313 - val_accuracy: 0.9924\n",
            "Epoch 6/50\n",
            "387/387 [==============================] - 17s 45ms/step - loss: 0.2537 - accuracy: 0.9128 - val_loss: 0.0133 - val_accuracy: 0.9975\n",
            "Epoch 7/50\n",
            "387/387 [==============================] - 17s 45ms/step - loss: 0.2014 - accuracy: 0.9339 - val_loss: 0.0080 - val_accuracy: 0.9989\n",
            "Epoch 8/50\n",
            "387/387 [==============================] - 17s 45ms/step - loss: 0.1625 - accuracy: 0.9456 - val_loss: 0.0036 - val_accuracy: 0.9996\n",
            "Epoch 9/50\n",
            "387/387 [==============================] - 17s 45ms/step - loss: 0.1385 - accuracy: 0.9542 - val_loss: 0.0019 - val_accuracy: 1.0000\n",
            "Epoch 10/50\n",
            "387/387 [==============================] - 17s 45ms/step - loss: 0.1190 - accuracy: 0.9588 - val_loss: 0.0043 - val_accuracy: 0.9982\n",
            "Epoch 11/50\n",
            "387/387 [==============================] - 17s 45ms/step - loss: 0.1107 - accuracy: 0.9630 - val_loss: 0.0122 - val_accuracy: 0.9945\n",
            "Epoch 12/50\n",
            "387/387 [==============================] - 17s 45ms/step - loss: 0.0962 - accuracy: 0.9682 - val_loss: 0.0011 - val_accuracy: 1.0000\n",
            "Epoch 13/50\n",
            "387/387 [==============================] - 17s 45ms/step - loss: 0.0873 - accuracy: 0.9709 - val_loss: 3.7899e-04 - val_accuracy: 1.0000\n",
            "Epoch 14/50\n",
            "387/387 [==============================] - 17s 45ms/step - loss: 0.0781 - accuracy: 0.9736 - val_loss: 2.2206e-04 - val_accuracy: 1.0000\n",
            "Epoch 15/50\n",
            "387/387 [==============================] - 17s 45ms/step - loss: 0.0687 - accuracy: 0.9768 - val_loss: 3.3213e-04 - val_accuracy: 1.0000\n",
            "Epoch 16/50\n",
            "387/387 [==============================] - 17s 45ms/step - loss: 0.0651 - accuracy: 0.9784 - val_loss: 1.4021e-04 - val_accuracy: 1.0000\n",
            "Epoch 17/50\n",
            "387/387 [==============================] - 17s 45ms/step - loss: 0.0616 - accuracy: 0.9801 - val_loss: 7.6403e-04 - val_accuracy: 1.0000\n",
            "Epoch 18/50\n",
            "387/387 [==============================] - 17s 44ms/step - loss: 0.0596 - accuracy: 0.9806 - val_loss: 7.8140e-05 - val_accuracy: 1.0000\n",
            "Epoch 19/50\n",
            "387/387 [==============================] - 17s 45ms/step - loss: 0.0527 - accuracy: 0.9819 - val_loss: 3.2954e-04 - val_accuracy: 1.0000\n",
            "Epoch 20/50\n",
            "387/387 [==============================] - 17s 44ms/step - loss: 0.0502 - accuracy: 0.9834 - val_loss: 5.4320e-05 - val_accuracy: 1.0000\n",
            "Epoch 21/50\n",
            "387/387 [==============================] - 17s 45ms/step - loss: 0.0424 - accuracy: 0.9858 - val_loss: 3.7482e-05 - val_accuracy: 1.0000\n",
            "Epoch 22/50\n",
            "387/387 [==============================] - 17s 44ms/step - loss: 0.0452 - accuracy: 0.9853 - val_loss: 2.4017e-04 - val_accuracy: 1.0000\n",
            "Epoch 23/50\n",
            "387/387 [==============================] - 17s 45ms/step - loss: 0.0436 - accuracy: 0.9850 - val_loss: 6.7434e-05 - val_accuracy: 1.0000\n",
            "Epoch 24/50\n",
            "387/387 [==============================] - 17s 45ms/step - loss: 0.0400 - accuracy: 0.9872 - val_loss: 4.0292e-05 - val_accuracy: 1.0000\n",
            "Epoch 25/50\n",
            "387/387 [==============================] - 17s 45ms/step - loss: 0.0409 - accuracy: 0.9867 - val_loss: 4.1774e-05 - val_accuracy: 1.0000\n",
            "Epoch 26/50\n",
            "387/387 [==============================] - 17s 45ms/step - loss: 0.0413 - accuracy: 0.9865 - val_loss: 2.4030e-05 - val_accuracy: 1.0000\n",
            "Epoch 27/50\n",
            "387/387 [==============================] - 17s 45ms/step - loss: 0.0357 - accuracy: 0.9888 - val_loss: 2.2868e-05 - val_accuracy: 1.0000\n",
            "Epoch 28/50\n",
            "387/387 [==============================] - 17s 45ms/step - loss: 0.0374 - accuracy: 0.9875 - val_loss: 5.0846e-05 - val_accuracy: 1.0000\n",
            "Epoch 29/50\n",
            "387/387 [==============================] - 17s 44ms/step - loss: 0.0344 - accuracy: 0.9887 - val_loss: 9.4387e-06 - val_accuracy: 1.0000\n",
            "Epoch 30/50\n",
            "387/387 [==============================] - 17s 44ms/step - loss: 0.0361 - accuracy: 0.9884 - val_loss: 1.5980e-05 - val_accuracy: 1.0000\n",
            "Epoch 31/50\n",
            "387/387 [==============================] - 17s 45ms/step - loss: 0.0300 - accuracy: 0.9898 - val_loss: 1.2192e-05 - val_accuracy: 1.0000\n",
            "Epoch 32/50\n",
            "387/387 [==============================] - 17s 45ms/step - loss: 0.0297 - accuracy: 0.9906 - val_loss: 1.2756e-05 - val_accuracy: 1.0000\n",
            "Epoch 33/50\n",
            "387/387 [==============================] - 17s 44ms/step - loss: 0.0299 - accuracy: 0.9901 - val_loss: 6.9989e-05 - val_accuracy: 1.0000\n",
            "Epoch 34/50\n",
            "387/387 [==============================] - 17s 45ms/step - loss: 0.0297 - accuracy: 0.9899 - val_loss: 1.0855e-05 - val_accuracy: 1.0000\n",
            "Epoch 35/50\n",
            "387/387 [==============================] - 17s 44ms/step - loss: 0.0242 - accuracy: 0.9924 - val_loss: 3.0296e-06 - val_accuracy: 1.0000\n",
            "Epoch 36/50\n",
            "387/387 [==============================] - 17s 44ms/step - loss: 0.0287 - accuracy: 0.9913 - val_loss: 1.2006e-06 - val_accuracy: 1.0000\n",
            "Epoch 37/50\n",
            "387/387 [==============================] - 17s 44ms/step - loss: 0.0275 - accuracy: 0.9911 - val_loss: 3.4227e-05 - val_accuracy: 1.0000\n",
            "Epoch 38/50\n",
            "387/387 [==============================] - 17s 44ms/step - loss: 0.0246 - accuracy: 0.9919 - val_loss: 7.6931e-06 - val_accuracy: 1.0000\n",
            "Epoch 39/50\n",
            "387/387 [==============================] - 17s 44ms/step - loss: 0.0271 - accuracy: 0.9919 - val_loss: 1.1885e-06 - val_accuracy: 1.0000\n",
            "Epoch 40/50\n",
            "387/387 [==============================] - 17s 44ms/step - loss: 0.0249 - accuracy: 0.9919 - val_loss: 3.0496e-05 - val_accuracy: 1.0000\n",
            "Epoch 41/50\n",
            "387/387 [==============================] - 17s 44ms/step - loss: 0.0242 - accuracy: 0.9925 - val_loss: 6.1473e-06 - val_accuracy: 1.0000\n",
            "Epoch 42/50\n",
            "387/387 [==============================] - 17s 44ms/step - loss: 0.0235 - accuracy: 0.9927 - val_loss: 2.9841e-06 - val_accuracy: 1.0000\n",
            "Epoch 43/50\n",
            "387/387 [==============================] - 17s 44ms/step - loss: 0.0223 - accuracy: 0.9925 - val_loss: 9.4741e-06 - val_accuracy: 1.0000\n",
            "Epoch 44/50\n",
            "387/387 [==============================] - 17s 44ms/step - loss: 0.0234 - accuracy: 0.9926 - val_loss: 4.8757e-05 - val_accuracy: 1.0000\n",
            "Epoch 45/50\n",
            "387/387 [==============================] - 17s 44ms/step - loss: 0.0192 - accuracy: 0.9944 - val_loss: 1.8742e-05 - val_accuracy: 1.0000\n",
            "Epoch 46/50\n",
            "387/387 [==============================] - 17s 44ms/step - loss: 0.0178 - accuracy: 0.9943 - val_loss: 5.4115e-07 - val_accuracy: 1.0000\n",
            "Epoch 47/50\n",
            "387/387 [==============================] - 17s 44ms/step - loss: 0.0209 - accuracy: 0.9934 - val_loss: 3.0674e-07 - val_accuracy: 1.0000\n",
            "Epoch 48/50\n",
            "387/387 [==============================] - 17s 44ms/step - loss: 0.0245 - accuracy: 0.9934 - val_loss: 1.5307e-07 - val_accuracy: 1.0000\n",
            "Epoch 49/50\n",
            "387/387 [==============================] - 17s 44ms/step - loss: 0.0196 - accuracy: 0.9938 - val_loss: 4.6809e-06 - val_accuracy: 1.0000\n",
            "Epoch 50/50\n",
            "387/387 [==============================] - 17s 44ms/step - loss: 0.0155 - accuracy: 0.9945 - val_loss: 3.1307e-05 - val_accuracy: 1.0000\n"
          ],
          "name": "stdout"
        }
      ]
    },
    {
      "cell_type": "code",
      "metadata": {
        "id": "3eFSk5RcvD4I",
        "colab_type": "code",
        "colab": {
          "base_uri": "https://localhost:8080/",
          "height": 34
        },
        "outputId": "6512431f-5c39-448d-de5c-f80800412739"
      },
      "source": [
        "predictedChar = [label_to_character( x ) for x in model.predict_classes(Xtrain)]\n",
        "actualChar = [one_hot_vector_to_character( x ) for x in Ytrain]\n",
        "sumI = 0;\n",
        "for i in range(len(predictedChar)):\n",
        "  sumI = sumI + (actualChar[i] == predictedChar[i] )\n",
        "print('Test accuracy is', sumI/len(predictedChar));"
      ],
      "execution_count": 12,
      "outputs": [
        {
          "output_type": "stream",
          "text": [
            "Test accuracy is 1.0\n"
          ],
          "name": "stdout"
        }
      ]
    },
    {
      "cell_type": "code",
      "metadata": {
        "id": "r_PgtYVA6a9v",
        "colab_type": "code",
        "colab": {}
      },
      "source": [
        "model.save_weights('./drive/My Drive/Colab Notebooks/mnist-handsign-weights.hdf5');"
      ],
      "execution_count": 0,
      "outputs": []
    },
    {
      "cell_type": "code",
      "metadata": {
        "id": "FShj1dn8CAbb",
        "colab_type": "code",
        "colab": {}
      },
      "source": [
        ""
      ],
      "execution_count": 0,
      "outputs": []
    }
  ]
}